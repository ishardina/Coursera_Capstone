{
  "nbformat": 4,
  "nbformat_minor": 0,
  "metadata": {
    "colab": {
      "name": "Capstone Project: Open Cinema in Surabaya (Introduction & Data).ipynb",
      "provenance": [],
      "authorship_tag": "ABX9TyMM/5fwa9puuCuH/enl4fVj"
    },
    "kernelspec": {
      "name": "python3",
      "display_name": "Python 3"
    }
  },
  "cells": [
    {
      "cell_type": "markdown",
      "metadata": {
        "id": "beSqiOUg7gl6"
      },
      "source": [
        "# **Capstone Project - The Battle of the Neighborhoods**\r\n",
        "\r\n",
        "### **Applied Data Science Capstone by IBM/Coursera**"
      ]
    },
    {
      "cell_type": "markdown",
      "metadata": {
        "id": "HZXspmHr9zUo"
      },
      "source": [
        "### **Table of contents**\r\n",
        "\r\n",
        "1.   Introduction: Bussiness Problem\r\n",
        "2.   Data\r\n",
        "\r\n",
        "\r\n",
        "\r\n"
      ]
    },
    {
      "cell_type": "markdown",
      "metadata": {
        "id": "72UbVklX-Pzc"
      },
      "source": [
        "### **1. Introduction: Bussiness Problem**\r\n",
        "\r\n"
      ]
    },
    {
      "cell_type": "markdown",
      "metadata": {
        "id": "Obb30ij7-xbG"
      },
      "source": [
        "In this project we are going to look for an optional location to open a movie theater. Especially, this report can provide a reference for stakeholder who are interested in **movie theater in Surabaya, East Java, Indonesia**.\r\n",
        "\r\n",
        "Surabaya is the capital of the Indonesian province of East Java. Located on northeastern border of Java island, on the Madura Strait, it is one of the earliest port cities in Southeast Asia. According to the National Development Planning Agency, Surabaya is one of the four main central cities of Indonesia, alongside Jakarta, Medan, and Makassar. The city has a population of 2.89 million within its city limits in 2019 and 9.5 million in the extended Surabaya metropolitan area, making it the second-largest metropolitan area in Indonesia\r\n",
        "\r\n",
        "There are many movie theaters in Surabaya, we will conclude where are the existing movie theaters. Then, we will use clustering model to find similar areas on the island considering demographic data of each borough and region. The preferred area shall be **distant from existing movie theaters**.\r\n",
        "\r\n",
        "We will use data science tools to fetch the raw data, visualize it then **generate a few most promising areas based on above criteria**. In the meanwhile, we will also explain the advantage and traits for the candidates, so that **stakeholders can make the final decision** base on the analysis."
      ]
    },
    {
      "cell_type": "markdown",
      "metadata": {
        "id": "Hj0GJmd2DFqM"
      },
      "source": [
        "### **2. Data**"
      ]
    },
    {
      "cell_type": "markdown",
      "metadata": {
        "id": "mtRmsPqZElru"
      },
      "source": [
        "Based on the definition of our problem, factors that may impact our decision are:\r\n",
        "*   Demographic information, e.g. population, density, education, age, income\r\n",
        "*   Number of existing shopping malls in the neighborhood and nearby\r\n",
        "*   Number of existing movie theaters in the neighborhood and nearby\r\n",
        "\r\n",
        "In this project, we will fetch or extract data from the following data sources:\r\n",
        "*   [Surabaya census information of 2020 year](https://surabayakota.bps.go.id/)\r\n",
        "*   Centers of hexagon neighborhoods will be generated algorithmically and approximate addresses of centers of those areas will be obtained using Google Geocoding API\r\n",
        "*   Shopping malls and movie theaters data in every neighborhood will be obtained using Foursquare API\r\n",
        "*   Coordinate of Surabaya center will be obtained using Google Geocoding API of well known Surabaya location\r\n",
        "*   Surabaya borough shapefile is obtained from [Open Street Map](https://openstreetmap.id/en/data-surabaya/)."
      ]
    },
    {
      "cell_type": "markdown",
      "metadata": {
        "id": "e34R9m_2HrVn"
      },
      "source": [
        ""
      ]
    }
  ]
}